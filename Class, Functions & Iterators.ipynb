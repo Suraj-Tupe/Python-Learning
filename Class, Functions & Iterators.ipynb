{
 "cells": [
  {
   "cell_type": "code",
   "execution_count": 1,
   "id": "d96d69f1",
   "metadata": {},
   "outputs": [
    {
     "name": "stdout",
     "output_type": "stream",
     "text": [
      "1\n",
      "2\n",
      "3\n",
      "4\n",
      "7\n",
      "8\n",
      "9\n"
     ]
    }
   ],
   "source": [
    "a=0\n",
    "while a<10:\n",
    "    a+=1\n",
    "    if a<5:\n",
    "        print(a)\n",
    "    elif a==5 or a==6:\n",
    "        continue\n",
    "    elif a<10:\n",
    "        print(a)\n",
    "    else:\n",
    "        break"
   ]
  },
  {
   "cell_type": "code",
   "execution_count": 2,
   "id": "d628d8d2",
   "metadata": {},
   "outputs": [
    {
     "name": "stdout",
     "output_type": "stream",
     "text": [
      "4\n",
      "5\n",
      "6\n",
      "7\n",
      "6\n",
      "7\n",
      "8\n",
      "9\n",
      "10\n"
     ]
    },
    {
     "name": "stderr",
     "output_type": "stream",
     "text": [
      "<>:3: SyntaxWarning: \"is\" with a literal. Did you mean \"==\"?\n",
      "<>:3: SyntaxWarning: \"is\" with a literal. Did you mean \"==\"?\n",
      "C:\\Users\\cisutupe\\AppData\\Local\\Temp\\ipykernel_57312\\1785471464.py:3: SyntaxWarning: \"is\" with a literal. Did you mean \"==\"?\n",
      "  if x is 1:\n"
     ]
    }
   ],
   "source": [
    "list= [1,2,3,4,5,6,7,8,9,10]\n",
    "for x in list:\n",
    "    if x is 1:\n",
    "        continue\n",
    "    elif x in (2,3,4,5):\n",
    "        print(x+2)\n",
    "    else:\n",
    "        print(x)"
   ]
  },
  {
   "cell_type": "code",
   "execution_count": 3,
   "id": "6a45becc",
   "metadata": {},
   "outputs": [
    {
     "name": "stdout",
     "output_type": "stream",
     "text": [
      "Values Set\n",
      "Id:  1\n",
      "Name:  Pravin\n",
      "email:  pravin.tupe@hyster-yale.com\n",
      "Values Set\n",
      "Id:  2\n",
      "Name:  Tejashree\n",
      "email:  tejashree.tupe@capgemini.com\n",
      "To get Student Info\n",
      "12\n",
      "Suraj\n",
      "suraj.tupe@hyster-yale.com\n"
     ]
    }
   ],
   "source": [
    "class Student:\n",
    "    \"To get Student Info\"\n",
    "    \n",
    "    #variables declarations\n",
    "    Id=12\n",
    "    name=\"Suraj\"\n",
    "    email=\"suraj.tupe@hyster-yale.com\"\n",
    "    \n",
    "    #Parameterized constructor\n",
    "    def __init__(self,Id,name,email):\n",
    "        self.Id=Id\n",
    "        self.name=name\n",
    "        self.email=email\n",
    "        print(\"Values Set\")\n",
    "     \n",
    "    #Function defined\n",
    "    def display_Student_Data(self):\n",
    "        print(\"Id: \",self.Id)\n",
    "        print(\"Name: \",self.name)\n",
    "        print(\"email: \",self.email)\n",
    "        \n",
    "OB=Student(1,\"Pravin\",\"pravin.tupe@hyster-yale.com\") #1st Object creation\n",
    "OB.display_Student_Data()\n",
    "    \n",
    "OB1=Student(2,\"Tejashree\",\"tejashree.tupe@capgemini.com\") #2nd object Creation\n",
    "OB1.display_Student_Data()\n",
    "    \n",
    "print(Student.__doc__)\n",
    "    \n",
    "print(Student.Id)\n",
    "print(Student.name)\n",
    "print(Student.email)\n",
    "    "
   ]
  },
  {
   "cell_type": "code",
   "execution_count": 4,
   "id": "6dd21863",
   "metadata": {},
   "outputs": [
    {
     "data": {
      "text/plain": [
       "'D:\\\\Python Jupyter_Notebook'"
      ]
     },
     "execution_count": 4,
     "metadata": {},
     "output_type": "execute_result"
    }
   ],
   "source": []
  },
  {
   "cell_type": "code",
   "execution_count": null,
   "id": "e8da4d25",
   "metadata": {},
   "outputs": [],
   "source": []
  }
 ],
 "metadata": {
  "kernelspec": {
   "display_name": "Python 3 (ipykernel)",
   "language": "python",
   "name": "python3"
  },
  "language_info": {
   "codemirror_mode": {
    "name": "ipython",
    "version": 3
   },
   "file_extension": ".py",
   "mimetype": "text/x-python",
   "name": "python",
   "nbconvert_exporter": "python",
   "pygments_lexer": "ipython3",
   "version": "3.10.9"
  }
 },
 "nbformat": 4,
 "nbformat_minor": 5
}
